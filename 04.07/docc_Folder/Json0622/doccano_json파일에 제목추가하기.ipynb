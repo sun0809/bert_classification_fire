{
 "cells": [
  {
   "cell_type": "code",
   "execution_count": null,
   "metadata": {},
   "outputs": [],
   "source": [
    "## 0620 json 파일 제목 달기 \n"
   ]
  },
  {
   "cell_type": "code",
   "execution_count": null,
   "metadata": {},
   "outputs": [],
   "source": [
    "with open(\"C:\\\\test_github\\\\bert_classification\\\\04.07\\\\sum_lexrank.json\", 'r',encoding= 'utf-8')as f:\n",
    "    json_data = json.load(f)\n",
    "title = list(json_data.keys())\n",
    "with open(\"C:\\\\test_github\\\\bert_classification\\\\04.07\\\\docc_Folder\\\\Json0622/json0622.json\", 'r',encoding= 'utf-8')as j:\n",
    "    json_docc = json.load(j)"
   ]
  },
  {
   "cell_type": "code",
   "execution_count": null,
   "metadata": {},
   "outputs": [],
   "source": [
    "for i in title:\n",
    "    whole_text = ''.join(json_data[i]['text'])\n",
    "    title_text = i\n",
    "    for k in range(len(json_docc)):\n",
    "        text = json_docc[k]['data']\n",
    "        if text in whole_text:\n",
    "            json_docc[k]['title'] = i"
   ]
  },
  {
   "cell_type": "code",
   "execution_count": null,
   "metadata": {},
   "outputs": [],
   "source": [
    "with open('C:\\\\test_github\\\\bert_classification\\\\04.07\\\\docc_Folder\\\\Json0622\\\\json0622_title.json','w',encoding = 'utf-8') as mk:\n",
    "    json.dump(json_docc,mk,ensure_ascii = False, indent='\\t')"
   ]
  }
 ],
 "metadata": {
  "hide_input": false,
  "kernelspec": {
   "display_name": "Python 3",
   "language": "python",
   "name": "python3"
  },
  "language_info": {
   "codemirror_mode": {
    "name": "ipython",
    "version": 3
   },
   "file_extension": ".py",
   "mimetype": "text/x-python",
   "name": "python",
   "nbconvert_exporter": "python",
   "pygments_lexer": "ipython3",
   "version": "3.7.6"
  },
  "toc": {
   "base_numbering": 1,
   "nav_menu": {},
   "number_sections": true,
   "sideBar": true,
   "skip_h1_title": false,
   "title_cell": "Table of Contents",
   "title_sidebar": "Contents",
   "toc_cell": false,
   "toc_position": {},
   "toc_section_display": true,
   "toc_window_display": false
  }
 },
 "nbformat": 4,
 "nbformat_minor": 4
}
