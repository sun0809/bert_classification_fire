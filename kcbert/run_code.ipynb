{
 "cells": [
  {
   "cell_type": "code",
   "execution_count": null,
   "metadata": {},
   "outputs": [],
   "source": [
    "!pip install -r \"D:\\hang_test\\04.01\\kcbert\\ratsnlp\\requirements.txt\""
   ]
  },
  {
   "cell_type": "code",
   "execution_count": 1,
   "metadata": {},
   "outputs": [
    {
     "name": "stdout",
     "output_type": "stream",
     "text": [
      "C:\\Users\\coms\\Desktop\\04.07\\kcbert\\ratsnlp\\ratsnlp\\nlpbook\n"
     ]
    }
   ],
   "source": [
    "%cd \"C:\\Users\\coms\\Desktop\\04.07\\kcbert\\ratsnlp\\ratsnlp\\nlpbook\""
   ]
  },
  {
   "cell_type": "code",
   "execution_count": null,
   "metadata": {},
   "outputs": [],
   "source": [
    "# plumber 사용하기 "
   ]
  },
  {
   "cell_type": "code",
   "execution_count": null,
   "metadata": {},
   "outputs": [],
   "source": []
  },
  {
   "cell_type": "code",
   "execution_count": null,
   "metadata": {},
   "outputs": [],
   "source": []
  },
  {
   "cell_type": "code",
   "execution_count": 2,
   "metadata": {},
   "outputs": [],
   "source": [
    "import torch\n",
    "from classification import ClassificationTrainArguments\n",
    "args = ClassificationTrainArguments(\n",
    "    pretrained_model_name=\"beomi/kcbert-base\",  #프리트레인 마친 언어모델의 이름\n",
    "    downstream_corpus_name=\"data\", # 다운스트림 데이터의 이름\n",
    "    downstream_model_dir=\"C:/Users/coms/Desktop/04.07/kcbert/result\",  # 파인튜닝된 모델의 체크포인트가 저장될 위치. \n",
    "    downstream_corpus_root_dir =  \"C:/Users/coms/Desktop/04.07/kcbert/result/Korpora\",\n",
    "    batch_size=32 if torch.cuda.is_available() else 4, #TPU로 설정했다면 4\n",
    "    learning_rate=5e-5,   \n",
    "    max_seq_length=128,  # 패딩과 같은 의미 / 이보다 긴문장은 자르고 짧은 문장은 padding을 진행한다. \n",
    "    epochs=1,\n",
    "    tpu_cores=0 if torch.cuda.is_available() else 8, # GPU면 TPU 코어수 0 TPU면 8\n",
    "    seed=7,\n",
    ")"
   ]
  },
  {
   "cell_type": "code",
   "execution_count": 3,
   "metadata": {},
   "outputs": [
    {
     "data": {
      "text/plain": [
       "'C:/Users/coms/Desktop/04.07/kcbert/result/Korpora'"
      ]
     },
     "execution_count": 3,
     "metadata": {},
     "output_type": "execute_result"
    }
   ],
   "source": [
    "args.downstream_corpus_root_dir"
   ]
  },
  {
   "cell_type": "code",
   "execution_count": 4,
   "metadata": {},
   "outputs": [
    {
     "name": "stdout",
     "output_type": "stream",
     "text": [
      "set seed: 7\n"
     ]
    }
   ],
   "source": [
    "from utils import set_seed\n",
    "set_seed(args)"
   ]
  },
  {
   "cell_type": "code",
   "execution_count": 5,
   "metadata": {},
   "outputs": [
    {
     "name": "stderr",
     "output_type": "stream",
     "text": [
      "INFO:ratsnlp:Training/evaluation parameters ClassificationTrainArguments(pretrained_model_name='beomi/kcbert-base', downstream_task_name='document-classification', downstream_corpus_name='data', downstream_corpus_root_dir='C:/Users/coms/Desktop/04.07/kcbert/result/Korpora', downstream_model_dir='C:/Users/coms/Desktop/04.07/kcbert/result', max_seq_length=128, save_top_k=1, monitor='min val_loss', seed=7, overwrite_cache=False, force_download=False, test_mode=False, learning_rate=5e-05, epochs=1, batch_size=32, cpu_workers=16, fp16=False, tpu_cores=0)\n"
     ]
    }
   ],
   "source": [
    "from utils import set_logger\n",
    "set_logger(args)"
   ]
  },
  {
   "cell_type": "code",
   "execution_count": null,
   "metadata": {},
   "outputs": [],
   "source": [
    "from Korpora import Korpora\n",
    "Korpora.fetch(\n",
    "    corpus_name=args.downstream_corpus_name,\n",
    "    root_dir= args.downstream_corpus_root_dir,\n",
    "    force_download=True,\n",
    ")"
   ]
  },
  {
   "cell_type": "code",
   "execution_count": 6,
   "metadata": {},
   "outputs": [],
   "source": [
    "from transformers import BertTokenizer\n",
    "tokenizer = BertTokenizer.from_pretrained(\n",
    "    args.pretrained_model_name,\n",
    "    do_lower_case=False,\n",
    ")"
   ]
  },
  {
   "cell_type": "code",
   "execution_count": 7,
   "metadata": {},
   "outputs": [
    {
     "name": "stderr",
     "output_type": "stream",
     "text": [
      "INFO:ratsnlp:Loading features from cached file C:/Users/coms/Desktop/04.07/kcbert/result/Korpora\\data\\cached_train_BertTokenizer_128_data_document-classification [took 0.004 s]\n"
     ]
    }
   ],
   "source": [
    "from torch.utils.data import DataLoader, SequentialSampler, RandomSampler\n",
    "from classification import NsmcCorpus, ClassificationDataset\n",
    "from data_utils import data_collator\n",
    "corpus = NsmcCorpus()    #“문장(영화 리뷰) + 레이블(긍정, 부정)”\n",
    "\n",
    "## 데이터 토크나이저 하기 : 모델이 학습할 수 있는 형태로 가공\n",
    "train_dataset = ClassificationDataset(  \n",
    "    args=args,\n",
    "    corpus=corpus,#“문장(영화 리뷰) + 레이블(긍정, 부정)”\n",
    "    tokenizer=tokenizer, #모델이 학습할 수 있는 형태로 가공\n",
    "    mode=\"train\",\n",
    ")\n",
    "\n",
    "# 전체 인스턴스 가운데 배치크기 만큼 뽑아 배치형태로 가공하기 \n",
    "train_dataloader = DataLoader(\n",
    "    train_dataset,\n",
    "    batch_size=args.batch_size,\n",
    "    sampler=RandomSampler(train_dataset, replacement=False), # 배치를 만들 대 전체 인스턴스 중 배치사이즈 수 만큼 비복원 추출을 한다. \n",
    "    collate_fn=data_collator, # 리스트 형의 ClassificationDataset를 tensor형으로 바꾼다. \n",
    "    drop_last=False,\n",
    "    num_workers=args.cpu_workers,\n",
    ")"
   ]
  },
  {
   "cell_type": "code",
   "execution_count": 8,
   "metadata": {},
   "outputs": [
    {
     "name": "stderr",
     "output_type": "stream",
     "text": [
      "INFO:ratsnlp:Loading features from cached file C:/Users/coms/Desktop/04.07/kcbert/result/Korpora\\data\\cached_test_BertTokenizer_128_data_document-classification [took 0.001 s]\n"
     ]
    }
   ],
   "source": [
    "from data_utils import data_collator\n",
    "val_dataset = ClassificationDataset(\n",
    "    args=args,\n",
    "    corpus=corpus,\n",
    "    tokenizer=tokenizer,\n",
    "    mode=\"test\",\n",
    ")\n",
    "val_dataloader = DataLoader(\n",
    "    val_dataset,\n",
    "    batch_size=args.batch_size,\n",
    "    sampler=SequentialSampler(val_dataset), # 평가용 데이터 로더 구축. batch_size만큼의 갯수만큼을 인스턴스 순서대로 추출하는 역할을 합니다. #학습은 랜덤 평가는 순서대로\n",
    "    collate_fn=data_collator,\n",
    "    drop_last=False,\n",
    "    num_workers=args.cpu_workers,\n",
    ")"
   ]
  },
  {
   "cell_type": "code",
   "execution_count": null,
   "metadata": {},
   "outputs": [],
   "source": [
    "# 모델 초기화\n",
    "from transformers import BertConfig, BertForSequenceClassification\n",
    "pretrained_model_config = BertConfig.from_pretrained(\n",
    "    args.pretrained_model_name,\n",
    "    num_labels=corpus.num_labels,\n",
    ")"
   ]
  },
  {
   "cell_type": "code",
   "execution_count": null,
   "metadata": {},
   "outputs": [],
   "source": [
    "model = BertForSequenceClassification.from_pretrained(\n",
    "        args.pretrained_model_name,\n",
    "        config=pretrained_model_config,\n",
    ")"
   ]
  },
  {
   "cell_type": "code",
   "execution_count": null,
   "metadata": {},
   "outputs": [],
   "source": [
    "from classification import ClassificationTask\n",
    "task = ClassificationTask(model, args)"
   ]
  },
  {
   "cell_type": "code",
   "execution_count": null,
   "metadata": {},
   "outputs": [],
   "source": [
    "from trainer import get_trainer\n",
    "trainer = get_trainer(args)"
   ]
  },
  {
   "cell_type": "code",
   "execution_count": null,
   "metadata": {},
   "outputs": [],
   "source": [
    "from trainer import get_trainer\n",
    "\n",
    "trainer.fit(\n",
    "    task,\n",
    "    train_dataloader=train_dataloader,\n",
    "    val_dataloaders=val_dataloader,\n",
    ")"
   ]
  },
  {
   "cell_type": "code",
   "execution_count": null,
   "metadata": {},
   "outputs": [],
   "source": [
    "import gc\n",
    "gc.collect()\n",
    "torch.cuda.empty_cache()"
   ]
  },
  {
   "cell_type": "code",
   "execution_count": null,
   "metadata": {},
   "outputs": [],
   "source": []
  },
  {
   "cell_type": "code",
   "execution_count": null,
   "metadata": {},
   "outputs": [],
   "source": [
    "# 토크나이저 초기화하기\n",
    "from transformers import BertTokenizer\n",
    "tokenizer = BertTokenizer.from_pretrained(\n",
    "    args.pretrained_model_name,\n",
    "    do_lower_case=False,\n",
    ")"
   ]
  },
  {
   "cell_type": "code",
   "execution_count": null,
   "metadata": {},
   "outputs": [],
   "source": [
    "from classification import ClassificationDeployArguments\n",
    "from transformers import BertConfig, BertForSequenceClassification\n",
    "args = ClassificationDeployArguments(\n",
    "    pretrained_model_name=\"beomi/kcbert-base\",  \n",
    "    downstream_model_dir=\"C:/Users/coms/Desktop/04.07/kcbert/result\", \n",
    "    max_seq_length=128,  \n",
    ")\n",
    "\n",
    "\n",
    "\n",
    "fine_tuned_model_ckpt = torch.load(   \n",
    "    args.downstream_model_checkpoint_fpath,\n",
    "    map_location=torch.device(\"cpu\")\n",
    ")\n",
    "pretrained_model_config = BertConfig.from_pretrained(\n",
    "    args.pretrained_model_name,\n",
    "    num_labels=fine_tuned_model_ckpt['state_dict']['model.classifier.bias'].shape.numel(),\n",
    ")\n",
    "\n",
    "model = BertForSequenceClassification(pretrained_model_config)\n",
    "\n",
    "\n",
    "model.load_state_dict({k.replace(\"model.\", \"\"): v for k, v in fine_tuned_model_ckpt['state_dict'].items()})\n",
    "\n",
    "model.eval()"
   ]
  },
  {
   "cell_type": "code",
   "execution_count": null,
   "metadata": {},
   "outputs": [],
   "source": [
    "def inference_fn(sentence):\n",
    "    inputs = tokenizer(\n",
    "        [sentence],\n",
    "        max_length=args.max_seq_length,\n",
    "        padding=\"max_length\",\n",
    "        truncation=True,\n",
    "    )\n",
    "    with torch.no_grad():\n",
    "        outputs = model(**{k: torch.tensor(v) for k, v in inputs.items()})  #inputs를 파이토치 텐서로 바꾼후 모델 계산하기\n",
    "        prob = outputs.logits.softmax(dim=1)  ## outputs.logit은 soft-max함수에 넣기 전 로짓(logit)형태이다. \n",
    "        zero_prob = round(prob[0][0].item(), 4) ## 긍정/부정일 확률을 소수점 4자리로 반올림\n",
    "        one_prob = round(prob[0][1].item(), 4)\n",
    "        two_prob = round(prob[0][2].item(), 4)\n",
    "        three_prob = round(prob[0][3].item(), 4)\n",
    "        four_prob = round(prob[0][4].item(), 4)\n",
    "        five_prob = round(prob[0][5].item(), 4)\n",
    "        six_prob = round(prob[0][6].item(), 4)\n",
    "    return prob"
   ]
  },
  {
   "cell_type": "code",
   "execution_count": null,
   "metadata": {},
   "outputs": [],
   "source": [
    "trial_text = pd.read_csv"
   ]
  },
  {
   "cell_type": "code",
   "execution_count": 12,
   "metadata": {},
   "outputs": [
    {
     "ename": "NameError",
     "evalue": "name 'ClassificationExample' is not defined",
     "output_type": "error",
     "traceback": [
      "\u001b[1;31m---------------------------------------------------------------------------\u001b[0m",
      "\u001b[1;31mNameError\u001b[0m                                 Traceback (most recent call last)",
      "\u001b[1;32mc:\\Users\\coms\\Desktop\\04.07\\kcbert\\run_code.ipynb Cell 22'\u001b[0m in \u001b[0;36m<cell line: 8>\u001b[1;34m()\u001b[0m\n\u001b[0;32m     <a href='vscode-notebook-cell:/c%3A/Users/coms/Desktop/04.07/kcbert/run_code.ipynb#ch0000021?line=10'>11</a>\u001b[0m     label \u001b[39m=\u001b[39m line[\u001b[39m0\u001b[39m]\u001b[39m.\u001b[39msplit(\u001b[39m'\u001b[39m\u001b[39m,\u001b[39m\u001b[39m'\u001b[39m)[\u001b[39m0\u001b[39m]\n\u001b[0;32m     <a href='vscode-notebook-cell:/c%3A/Users/coms/Desktop/04.07/kcbert/run_code.ipynb#ch0000021?line=11'>12</a>\u001b[0m     text_a \u001b[39m=\u001b[39m line[\u001b[39m0\u001b[39m]\u001b[39m.\u001b[39msplit(\u001b[39m'\u001b[39m\u001b[39m,\u001b[39m\u001b[39m'\u001b[39m)[\u001b[39m1\u001b[39m]\n\u001b[1;32m---> <a href='vscode-notebook-cell:/c%3A/Users/coms/Desktop/04.07/kcbert/run_code.ipynb#ch0000021?line=13'>14</a>\u001b[0m     examples\u001b[39m.\u001b[39mappend(ClassificationExample(text_a\u001b[39m=\u001b[39mtext_a, text_b\u001b[39m=\u001b[39m\u001b[39mNone\u001b[39;00m, label\u001b[39m=\u001b[39mlabel))\n\u001b[0;32m     <a href='vscode-notebook-cell:/c%3A/Users/coms/Desktop/04.07/kcbert/run_code.ipynb#ch0000021?line=14'>15</a>\u001b[0m \u001b[39mprint\u001b[39m(examples[\u001b[39m0\u001b[39m])\n",
      "\u001b[1;31mNameError\u001b[0m: name 'ClassificationExample' is not defined"
     ]
    }
   ],
   "source": [
    "import csv\n",
    "data_fpath = 'C:\\\\Users\\\\coms\\\\Desktop\\\\04.07\\\\kcbert\\\\result\\\\Korpora\\\\data\\\\ratings_train.txt'\n",
    "\n",
    "\n",
    "lines = list(csv.reader(open(data_fpath, \"r\", encoding=\"utf-8\"), delimiter=\"\\t\", quotechar='\"'))\n",
    "\n",
    "examples = []\n",
    "for (i, line) in enumerate(lines):\n",
    "    if i == 0:\n",
    "        continue\n",
    "    label = line[0].split(',')[0]\n",
    "    text_a = line[0].split(',')[1]\n",
    "\n",
    "    examples.append(ClassificationExample(text_a=text_a, text_b=None, label=label))\n",
    "print(examples[0])\n",
    "\n"
   ]
  }
 ],
 "metadata": {
  "interpreter": {
   "hash": "eec699a33a4f4f2df01404676067d3b9a87dbc98aee72c98ff529282c39633bf"
  },
  "kernelspec": {
   "display_name": "Python 3.6.13 ('tutorial')",
   "language": "python",
   "name": "python3"
  },
  "language_info": {
   "codemirror_mode": {
    "name": "ipython",
    "version": 3
   },
   "file_extension": ".py",
   "mimetype": "text/x-python",
   "name": "python",
   "nbconvert_exporter": "python",
   "pygments_lexer": "ipython3",
   "version": "3.9.0"
  },
  "orig_nbformat": 4
 },
 "nbformat": 4,
 "nbformat_minor": 2
}
